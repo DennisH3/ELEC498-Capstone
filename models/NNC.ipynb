{
 "cells": [
  {
   "cell_type": "code",
   "execution_count": null,
   "metadata": {
    "execution": {
     "iopub.execute_input": "2021-07-28T00:51:34.985091Z",
     "iopub.status.busy": "2021-07-28T00:51:34.984868Z",
     "iopub.status.idle": "2021-07-28T00:51:36.549559Z",
     "shell.execute_reply": "2021-07-28T00:51:36.548741Z",
     "shell.execute_reply.started": "2021-07-28T00:51:34.985065Z"
    },
    "tags": []
   },
   "outputs": [],
   "source": [
    "# Imports\n",
    "import pandas as pd\n",
    "import numpy as np\n",
    "from numpy.polynomial.polynomial import polyfit\n",
    "import matplotlib.pyplot as plt\n",
    "import gc\n",
    "from IPython.display import display\n",
    "\n",
    "# Sci-kit Learn\n",
    "from sklearn.model_selection import train_test_split\n",
    "from sklearn.metrics import accuracy_score, f1_score\n",
    "from sklearn.preprocessing import MinMaxScaler\n",
    "\n",
    "# NN\n",
    "from keras.models import Sequential\n",
    "from keras.layers import LSTM, Dense, Dropout, Masking, Embedding, Conv2D, MaxPooling2D"
   ]
  },
  {
   "cell_type": "code",
   "execution_count": null,
   "metadata": {
    "execution": {
     "iopub.execute_input": "2021-07-28T00:51:36.550741Z",
     "iopub.status.busy": "2021-07-28T00:51:36.550535Z",
     "iopub.status.idle": "2021-07-28T00:51:51.157176Z",
     "shell.execute_reply": "2021-07-28T00:51:51.156568Z",
     "shell.execute_reply.started": "2021-07-28T00:51:36.550718Z"
    },
    "tags": []
   },
   "outputs": [],
   "source": [
    "# Load file\n",
    "df = pd.read_csv(\"filename.csv\",\n",
    "                #  usecols=['post_id', 'date', 'num_comments', 'score', 'total_awards',\n",
    "                #           'compound_score', 'author_id', 'author_name']\n",
    "                )\n",
    "\n",
    "df"
   ]
  },
  {
   "cell_type": "code",
   "execution_count": null,
   "metadata": {
    "execution": {
     "iopub.execute_input": "2021-07-28T00:52:08.577872Z",
     "iopub.status.busy": "2021-07-28T00:52:08.577655Z",
     "iopub.status.idle": "2021-07-28T00:52:09.182212Z",
     "shell.execute_reply": "2021-07-28T00:52:09.181468Z",
     "shell.execute_reply.started": "2021-07-28T00:52:08.577849Z"
    },
    "tags": []
   },
   "outputs": [],
   "source": [
    "# Get the X-variable columns\n",
    "df_X = df[['x_col_names']].to_numpy()\n",
    "\n",
    "# Get the Y-variable columns\n",
    "df_Y = df[['y_col_names']].to_numpy()\n",
    "\n",
    "# Clear up memory\n",
    "del df\n",
    "gc.collect()\n",
    "\n",
    "# Get 80% of the data by date\n",
    "X_train, X_test, y_train, y_test = train_test_split(df_X, df_Y, test_size=0.2,\n",
    "                                                    shuffle=False)\n",
    "\n",
    "# Print\n",
    "print(X_train)\n",
    "print(X_test)\n",
    "print(y_train)\n",
    "print(y_test)"
   ]
  },
  {
   "cell_type": "code",
   "execution_count": null,
   "metadata": {
    "execution": {
     "iopub.execute_input": "2021-07-28T00:52:09.184098Z",
     "iopub.status.busy": "2021-07-28T00:52:09.183881Z",
     "iopub.status.idle": "2021-07-28T02:00:30.512002Z",
     "shell.execute_reply": "2021-07-28T02:00:30.511018Z",
     "shell.execute_reply.started": "2021-07-28T00:52:09.184075Z"
    },
    "tags": []
   },
   "outputs": [],
   "source": [
    "# Normalize data\n",
    "scaler = MinMaxScaler()\n",
    "\n",
    "print(scaler.fit(X_train))\n",
    "xtrain_scale=scaler.transform(X_train)\n",
    "\n",
    "print(scaler.fit(X_test))\n",
    "X_test=scaler.transform(X_test)\n",
    "\n",
    "# Convert from float to int\n",
    "y_train = y_train.astype(int)\n",
    "y_test = y_test.astype(int)\n",
    "\n",
    "# Set input and output dimensions\n",
    "indim = X_train.shape[1]\n",
    "outdim = y_train.shape[1]\n",
    "\n",
    "# Initialize Feed-Forward Neural Network\n",
    "model = Sequential()\n",
    "\n",
    "# Create NN structure\n",
    "# Input layer\n",
    "model.add(Dense(indim+1, input_dim=indim, activation=\"relu\"))\n",
    "\n",
    "# Hidden layer with ~sqrt(num_features)\n",
    "model.add(Dense(X_train.shape[0]**0.5, activation=\"relu\"))\n",
    "\n",
    "# Output layer\n",
    "model.add(Dense(outdim))\n",
    "\n",
    "# Compile the model\n",
    "model.compile(loss='categorical_crossentropy', optimizer='adam', metrics=['accuracy'])\n",
    "\n",
    "# Train\n",
    "model.fit(xtrain_scale, y_train, epochs=10, batch_size=20, verbose=0)\n",
    "\n",
    "# Predict\n",
    "ypred = model.predict(X_test)"
   ]
  },
  {
   "cell_type": "code",
   "execution_count": null,
   "metadata": {
    "execution": {
     "iopub.execute_input": "2021-07-28T02:00:30.513407Z",
     "iopub.status.busy": "2021-07-28T02:00:30.513179Z",
     "iopub.status.idle": "2021-07-28T02:00:30.566305Z",
     "shell.execute_reply": "2021-07-28T02:00:30.565350Z",
     "shell.execute_reply.started": "2021-07-28T02:00:30.513383Z"
    },
    "tags": []
   },
   "outputs": [],
   "source": [
    "# Evaluate Accuracy Score\n",
    "\n",
    "# Convert y_test and ypred to type ints\n",
    "y_test = y_test.astype(int)\n",
    "ypred = ypred.astype(int)\n",
    "\n",
    "# Print overall model average\n",
    "print(\"The overall accuracy score is:\", accuracy_score(y_test, ypred))\n",
    "print(\"The overall f1 score for is:\", f1_score(y_test, ypred))"
   ]
  },
  {
   "cell_type": "code",
   "execution_count": null,
   "metadata": {},
   "outputs": [],
   "source": []
  }
 ],
 "metadata": {
  "kernelspec": {
   "display_name": "Python 3",
   "language": "python",
   "name": "python3"
  },
  "language_info": {
   "codemirror_mode": {
    "name": "ipython",
    "version": 3
   },
   "file_extension": ".py",
   "mimetype": "text/x-python",
   "name": "python",
   "nbconvert_exporter": "python",
   "pygments_lexer": "ipython3",
   "version": "3.8.10"
  }
 },
 "nbformat": 4,
 "nbformat_minor": 4
}
