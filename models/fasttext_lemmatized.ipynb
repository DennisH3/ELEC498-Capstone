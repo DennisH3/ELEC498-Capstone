{
 "cells": [
  {
   "cell_type": "code",
   "execution_count": 2,
   "id": "4f65d457",
   "metadata": {},
   "outputs": [],
   "source": [
    "import fasttext\n",
    "import numpy as np \n",
    "import pandas as pd"
   ]
  },
  {
   "cell_type": "code",
   "execution_count": 3,
   "id": "1b1f98ee",
   "metadata": {},
   "outputs": [],
   "source": [
    "# Load data\n",
    "df = pd.read_csv(\"clean_text_all_subreddits.csv\", usecols = [\"id\", \"lemmatized\", \"label\"], low_memory=False)\n",
    "df['label'] = \"__label__\" + df['label'].astype(str)\n",
    "\n",
    "train = pd.read_csv(\"train_data.csv\", usecols = [\"id\"])\n",
    "test = pd.read_csv(\"test_data.csv\", usecols = [\"id\"])\n",
    "\n",
    "train = df[df[\"id\"].isin(train[\"id\"])]\n",
    "test = df[df[\"id\"].isin(test[\"id\"])]\n",
    "\n",
    "# Drop unused columns\n",
    "\n",
    "# Running code\n",
    "\n",
    "train = train[['label', 'lemmatized']]\n",
    "np.savetxt('train.txt', train.values, fmt = '%s', encoding='utf8')\n",
    "model = fasttext.train_supervised(input=\"train.txt\")\n",
    "\n",
    "\n",
    "test = test[['id','label', 'lemmatized']]\n",
    "idText = np.array([])\n",
    "true_label = np.array([])\n",
    "predicted_label = np.array([])\n",
    "\n",
    "for index, row in test.iterrows():\n",
    "    idText = np.append(idText, row['id'])\n",
    "    true_label = np.append(true_label,row['label'])\n",
    "    predicted_label = np.append(predicted_label,model.predict(row['lemmatized'])[0])\n"
   ]
  },
  {
   "cell_type": "code",
   "execution_count": 4,
   "id": "8e7b9ecc",
   "metadata": {},
   "outputs": [],
   "source": [
    "output = pd.DataFrame({'id':idText, 'label':true_label,'predicted_label':predicted_label})\n",
    "output = output.merge(df)\n",
    "# Save to csv\n",
    "output.to_csv(\"fasttext_lemmatized.csv\", encoding='utf-8')"
   ]
  },
  {
   "cell_type": "code",
   "execution_count": 5,
   "id": "d5accff9",
   "metadata": {},
   "outputs": [
    {
     "data": {
      "text/plain": [
       "(('__label__1',), array([0.82068682]))"
      ]
     },
     "execution_count": 5,
     "metadata": {},
     "output_type": "execute_result"
    }
   ],
   "source": [
    "model.predict(\"i have been feeling really down lately, want help andi need to die\")"
   ]
  },
  {
   "cell_type": "code",
   "execution_count": null,
   "id": "d24882ab",
   "metadata": {},
   "outputs": [],
   "source": []
  }
 ],
 "metadata": {
  "kernelspec": {
   "display_name": "Python 3",
   "language": "python",
   "name": "python3"
  },
  "language_info": {
   "codemirror_mode": {
    "name": "ipython",
    "version": 3
   },
   "file_extension": ".py",
   "mimetype": "text/x-python",
   "name": "python",
   "nbconvert_exporter": "python",
   "pygments_lexer": "ipython3",
   "version": "3.8.8"
  }
 },
 "nbformat": 4,
 "nbformat_minor": 5
}
